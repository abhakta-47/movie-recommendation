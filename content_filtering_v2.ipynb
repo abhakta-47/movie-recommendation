{
 "cells": [
  {
   "cell_type": "code",
   "execution_count": 1,
   "metadata": {},
   "outputs": [],
   "source": [
    "import numpy as np\n",
    "import pandas as pd\n",
    "import matplotlib.pyplot as plt"
   ]
  },
  {
   "cell_type": "code",
   "execution_count": 2,
   "metadata": {},
   "outputs": [],
   "source": [
    "# movies_df = pd.read_csv('./data/my data/movies_dataset.csv')\n",
    "movies_df = pd.read_pickle('./data/my data/movies_dataset.pk')\n",
    "crew_df = pd.read_csv('./data/my data/crew_dataset.csv', dtype={'id':np.int32,'crew_id':np.int32,}, index_col='id')\n",
    "cast_df = pd.read_csv('./data/my data/cast_dataset.csv', dtype={'id':np.int32,'cast_id':np.int32,}, index_col='id')\n",
    "keywords_df = pd.read_csv('./data/my data/keywords_dataset.csv', dtype={'id':np.int32,}, index_col=['id'])"
   ]
  },
  {
   "cell_type": "code",
   "execution_count": 3,
   "metadata": {},
   "outputs": [],
   "source": [
    "from ast import literal_eval"
   ]
  },
  {
   "cell_type": "code",
   "execution_count": 4,
   "metadata": {},
   "outputs": [],
   "source": [
    "movies_df = pd.merge(movies_df,crew_df,on='id')\n",
    "movies_df = pd.merge(movies_df,cast_df,on='id')\n",
    "movies_df = pd.merge(movies_df,keywords_df,on='id')"
   ]
  },
  {
   "cell_type": "code",
   "execution_count": 5,
   "metadata": {},
   "outputs": [],
   "source": [
    "def genre2sentence(item):\n",
    "    if isinstance(item, list):\n",
    "        genres = []\n",
    "        for genre in item:\n",
    "            genres.append('genre_'+ str(genre))\n",
    "        return str(genres)\n",
    "    return []\n",
    "movies_df['genres'] = movies_df['genre_ids'].apply(genre2sentence)"
   ]
  },
  {
   "cell_type": "code",
   "execution_count": 6,
   "metadata": {},
   "outputs": [],
   "source": [
    "features = ['cast', 'crew', 'keywords', 'genres']\n",
    "for feature in features:\n",
    "    movies_df[feature] = movies_df[feature].apply(literal_eval)"
   ]
  },
  {
   "cell_type": "code",
   "execution_count": 7,
   "metadata": {},
   "outputs": [],
   "source": [
    "# Get the director's name from the crew feature. If director is not listed, return NaN\n",
    "def get_director(x):\n",
    "    for i in x:\n",
    "        if i['department'] == 'Directing':\n",
    "            return i['name']\n",
    "    return np.nan"
   ]
  },
  {
   "cell_type": "code",
   "execution_count": 8,
   "metadata": {},
   "outputs": [],
   "source": [
    "# Returns the list top 3 elements or entire list; whichever is more.\n",
    "def get_list(x):\n",
    "    if isinstance(x, list):\n",
    "        if len(x)==0:\n",
    "            return []\n",
    "        names = [i['name'] for i in x]\n",
    "        #Check if more than 3 elements exist. If yes, return only first three. If no, return entire list.\n",
    "        if len(names) > 3:\n",
    "            names = names[:3]\n",
    "        return names\n",
    "\n",
    "    #Return empty list in case of missing/malformed data\n",
    "    return []"
   ]
  },
  {
   "cell_type": "code",
   "execution_count": 9,
   "metadata": {},
   "outputs": [
    {
     "name": "stdout",
     "output_type": "stream",
     "text": [
      "cast keywords "
     ]
    }
   ],
   "source": [
    "# Define new director, cast, genres and keywords features that are in a suitable form.\n",
    "movies_df['director'] = movies_df['crew'].apply(get_director)\n",
    "\n",
    "features = ['cast', 'keywords',]\n",
    "for feature in features:\n",
    "    movies_df[feature] = movies_df[feature].apply(get_list)\n",
    "    print(feature,end=' ')"
   ]
  },
  {
   "cell_type": "code",
   "execution_count": 10,
   "metadata": {},
   "outputs": [],
   "source": [
    "# Function to convert all strings to lower case and strip names of spaces\n",
    "def clean_data(x):\n",
    "    if isinstance(x, list):\n",
    "        return [str.lower(i.replace(\" \", \"\")) for i in x]\n",
    "    else:\n",
    "        #Check if director exists. If not, return empty string\n",
    "        if isinstance(x, str):\n",
    "            return str.lower(x.replace(\" \", \"\"))\n",
    "        else:\n",
    "            return ''\n",
    "\n",
    "# Apply clean_data function to your features.\n",
    "features = ['cast', 'keywords', 'director', 'genres']\n",
    "\n",
    "for feature in features:\n",
    "    movies_df[feature] = movies_df[feature].apply(clean_data)"
   ]
  },
  {
   "cell_type": "code",
   "execution_count": 11,
   "metadata": {},
   "outputs": [],
   "source": [
    "def create_soup(x):\n",
    "    return ' '.join(x['keywords']) + ' ' + ' '.join(x['cast']) + ' ' + x['director'] + ' ' + ' '.join(x['genres'])\n",
    "movies_df['soup'] = movies_df.apply(create_soup, axis=1)"
   ]
  },
  {
   "cell_type": "code",
   "execution_count": 12,
   "metadata": {},
   "outputs": [],
   "source": [
    "# Import CountVectorizer and create the count matrix\n",
    "from sklearn.feature_extraction.text import CountVectorizer\n",
    "\n",
    "count = CountVectorizer(stop_words='english')\n",
    "count_matrix = count.fit_transform(movies_df['soup'])"
   ]
  },
  {
   "cell_type": "code",
   "execution_count": 13,
   "metadata": {},
   "outputs": [],
   "source": [
    "# Compute the Cosine Similarity matrix based on the count_matrix\n",
    "from sklearn.metrics.pairwise import cosine_similarity\n",
    "\n",
    "cosine_sim2 = cosine_similarity(count_matrix, count_matrix)\n",
    "# Reset index of our main DataFrame and construct reverse mapping as before\n",
    "movies_df = movies_df.reset_index()\n",
    "indices = pd.Series(movies_df.index, index=movies_df['title'])"
   ]
  },
  {
   "cell_type": "code",
   "execution_count": 14,
   "metadata": {},
   "outputs": [],
   "source": [
    "# Function that takes in movie title as input and outputs most similar movies\n",
    "def get_recommendations(title, cosine_sim):\n",
    "    # Get the index of the movie that matches the title\n",
    "    idx = indices[title]\n",
    "\n",
    "    # Get the pairwsie similarity scores of all movies with that movie\n",
    "    sim_scores = list(enumerate(cosine_sim[0]))\n",
    "\n",
    "    # Sort the movies based on the similarity scores\n",
    "    sim_scores = sorted(sim_scores, key=lambda x: x[1], reverse=True)\n",
    "\n",
    "    # Get the scores of the 10 most similar movies\n",
    "    sim_scores = sim_scores[1:11]\n",
    "\n",
    "    # Get the movie indices\n",
    "    movie_indices = [i[0] for i in sim_scores]\n",
    "\n",
    "    # Return the top 10 most similar movies\n",
    "    return movies_df['title'].iloc[movie_indices]"
   ]
  },
  {
   "cell_type": "code",
   "execution_count": 15,
   "metadata": {},
   "outputs": [],
   "source": [
    "# movies_df[ movies_df['title'].str.contains('Royal Bengal') ]"
   ]
  },
  {
   "cell_type": "code",
   "execution_count": 16,
   "metadata": {},
   "outputs": [
    {
     "data": {
      "text/plain": [
       "8454      Gorosthane Sabdhan\n",
       "8553     Kailashey Kelenkari\n",
       "8552       Tintorettor Jishu\n",
       "8676       Bombaiyer Bombete\n",
       "8773           Double Feluda\n",
       "8691    Golapi Mukta Rahasya\n",
       "8777          Baksha Rahasya\n",
       "8545      Gosainpur Sargaram\n",
       "8758       Mayurkanthi Jelly\n",
       "8705          Badshahi Angti\n",
       "Name: title, dtype: object"
      ]
     },
     "execution_count": 16,
     "metadata": {},
     "output_type": "execute_result"
    }
   ],
   "source": [
    "sub_df = pd.DataFrame([[movies_df.iloc[8638]['soup']]], columns=['soup'])\n",
    "# sub_df\n",
    "sub_df['soup']\n",
    "sub_mat = count.transform( sub_df['soup'] )\n",
    "sub_cosine_sim2 = cosine_similarity(sub_mat, count_matrix)\n",
    "get_recommendations('Royal Bengal Rahasya', sub_cosine_sim2)"
   ]
  },
  {
   "cell_type": "code",
   "execution_count": 17,
   "metadata": {},
   "outputs": [],
   "source": [
    "import pickle"
   ]
  },
  {
   "cell_type": "code",
   "execution_count": 18,
   "metadata": {},
   "outputs": [],
   "source": [
    "def pickle_read(fileName):\n",
    "    with open(fileName,'rb') as file_opened:\n",
    "        return pickle.load(file=file_opened)\n",
    "\n",
    "def pickle_write(fileName, obj):\n",
    "    with open(fileName,'wb') as file_opened:\n",
    "        try:\n",
    "            pickle.dump(obj=obj, file=file_opened)\n",
    "        except:\n",
    "            print('unable to write')"
   ]
  },
  {
   "cell_type": "code",
   "execution_count": 22,
   "metadata": {},
   "outputs": [],
   "source": [
    "def save_as_pickle():\n",
    "    pickle_write(fileName='./processed/obj_v2/count_matrix.pk', obj=count_matrix)\n",
    "    pickle_write(fileName='./processed/obj_v2/count_vector.pk', obj=count)\n",
    "    # pickle_write(fileName='./processed/obj_v2/cosine_sim.pk', obj=cosine_sim2)\n",
    "    pickle_write(fileName='./processed/obj_v2/movies_df.pk',obj=movies_df)\n",
    "    pickle_write(fileName='./processed/obj_v2/indices.pk',obj=indices)"
   ]
  },
  {
   "cell_type": "code",
   "execution_count": 23,
   "metadata": {},
   "outputs": [],
   "source": [
    "save_as_pickle()"
   ]
  }
 ],
 "metadata": {
  "interpreter": {
   "hash": "22193a32a2d7d0c48bc7989777eacee82b7a65cb795c87c6c6a7fb6ea05238c9"
  },
  "kernelspec": {
   "display_name": "Python 3.9.7 64-bit ('venv': venv)",
   "language": "python",
   "name": "python3"
  },
  "language_info": {
   "codemirror_mode": {
    "name": "ipython",
    "version": 3
   },
   "file_extension": ".py",
   "mimetype": "text/x-python",
   "name": "python",
   "nbconvert_exporter": "python",
   "pygments_lexer": "ipython3",
   "version": "3.9.7"
  },
  "orig_nbformat": 4
 },
 "nbformat": 4,
 "nbformat_minor": 2
}
