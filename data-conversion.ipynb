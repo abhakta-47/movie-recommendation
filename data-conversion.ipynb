{
 "cells": [
  {
   "cell_type": "markdown",
   "metadata": {},
   "source": [
    "# Movie recommendation system data processing by abhakta-47"
   ]
  },
  {
   "cell_type": "code",
   "execution_count": 1,
   "metadata": {},
   "outputs": [],
   "source": [
    "import numpy as np\n",
    "import pandas as pd\n",
    "import matplotlib.pyplot as plt"
   ]
  },
  {
   "cell_type": "code",
   "execution_count": 2,
   "metadata": {},
   "outputs": [
    {
     "name": "stderr",
     "output_type": "stream",
     "text": [
      "/home/abdev/projects/mlai-projects/movie-recommendation/venv/lib/python3.9/site-packages/IPython/core/interactiveshell.py:3457: DtypeWarning: Columns (10) have mixed types.Specify dtype option on import or set low_memory=False.\n",
      "  exec(code_obj, self.user_global_ns, self.user_ns)\n"
     ]
    }
   ],
   "source": [
    "columns_movie = ['genres','belongs_to_collection','id','original_title','popularity','production_companies','runtime','vote_average','vote_count']\n",
    "movie_df = pd.read_csv('movies_metadata.csv',usecols=columns_movie,)"
   ]
  },
  {
   "cell_type": "code",
   "execution_count": 3,
   "metadata": {},
   "outputs": [
    {
     "data": {
      "text/html": [
       "<div>\n",
       "<style scoped>\n",
       "    .dataframe tbody tr th:only-of-type {\n",
       "        vertical-align: middle;\n",
       "    }\n",
       "\n",
       "    .dataframe tbody tr th {\n",
       "        vertical-align: top;\n",
       "    }\n",
       "\n",
       "    .dataframe thead th {\n",
       "        text-align: right;\n",
       "    }\n",
       "</style>\n",
       "<table border=\"1\" class=\"dataframe\">\n",
       "  <thead>\n",
       "    <tr style=\"text-align: right;\">\n",
       "      <th></th>\n",
       "      <th>belongs_to_collection</th>\n",
       "      <th>genres</th>\n",
       "      <th>id</th>\n",
       "      <th>original_title</th>\n",
       "      <th>popularity</th>\n",
       "      <th>production_companies</th>\n",
       "      <th>runtime</th>\n",
       "      <th>vote_average</th>\n",
       "      <th>vote_count</th>\n",
       "    </tr>\n",
       "  </thead>\n",
       "  <tbody>\n",
       "    <tr>\n",
       "      <th>0</th>\n",
       "      <td>{'id': 10194, 'name': 'Toy Story Collection', ...</td>\n",
       "      <td>[{'id': 16, 'name': 'Animation'}, {'id': 35, '...</td>\n",
       "      <td>862</td>\n",
       "      <td>Toy Story</td>\n",
       "      <td>21.946943</td>\n",
       "      <td>[{'name': 'Pixar Animation Studios', 'id': 3}]</td>\n",
       "      <td>81.0</td>\n",
       "      <td>7.7</td>\n",
       "      <td>5415.0</td>\n",
       "    </tr>\n",
       "    <tr>\n",
       "      <th>1</th>\n",
       "      <td>NaN</td>\n",
       "      <td>[{'id': 12, 'name': 'Adventure'}, {'id': 14, '...</td>\n",
       "      <td>8844</td>\n",
       "      <td>Jumanji</td>\n",
       "      <td>17.015539</td>\n",
       "      <td>[{'name': 'TriStar Pictures', 'id': 559}, {'na...</td>\n",
       "      <td>104.0</td>\n",
       "      <td>6.9</td>\n",
       "      <td>2413.0</td>\n",
       "    </tr>\n",
       "    <tr>\n",
       "      <th>2</th>\n",
       "      <td>{'id': 119050, 'name': 'Grumpy Old Men Collect...</td>\n",
       "      <td>[{'id': 10749, 'name': 'Romance'}, {'id': 35, ...</td>\n",
       "      <td>15602</td>\n",
       "      <td>Grumpier Old Men</td>\n",
       "      <td>11.7129</td>\n",
       "      <td>[{'name': 'Warner Bros.', 'id': 6194}, {'name'...</td>\n",
       "      <td>101.0</td>\n",
       "      <td>6.5</td>\n",
       "      <td>92.0</td>\n",
       "    </tr>\n",
       "    <tr>\n",
       "      <th>3</th>\n",
       "      <td>NaN</td>\n",
       "      <td>[{'id': 35, 'name': 'Comedy'}, {'id': 18, 'nam...</td>\n",
       "      <td>31357</td>\n",
       "      <td>Waiting to Exhale</td>\n",
       "      <td>3.859495</td>\n",
       "      <td>[{'name': 'Twentieth Century Fox Film Corporat...</td>\n",
       "      <td>127.0</td>\n",
       "      <td>6.1</td>\n",
       "      <td>34.0</td>\n",
       "    </tr>\n",
       "    <tr>\n",
       "      <th>4</th>\n",
       "      <td>{'id': 96871, 'name': 'Father of the Bride Col...</td>\n",
       "      <td>[{'id': 35, 'name': 'Comedy'}]</td>\n",
       "      <td>11862</td>\n",
       "      <td>Father of the Bride Part II</td>\n",
       "      <td>8.387519</td>\n",
       "      <td>[{'name': 'Sandollar Productions', 'id': 5842}...</td>\n",
       "      <td>106.0</td>\n",
       "      <td>5.7</td>\n",
       "      <td>173.0</td>\n",
       "    </tr>\n",
       "  </tbody>\n",
       "</table>\n",
       "</div>"
      ],
      "text/plain": [
       "                               belongs_to_collection  \\\n",
       "0  {'id': 10194, 'name': 'Toy Story Collection', ...   \n",
       "1                                                NaN   \n",
       "2  {'id': 119050, 'name': 'Grumpy Old Men Collect...   \n",
       "3                                                NaN   \n",
       "4  {'id': 96871, 'name': 'Father of the Bride Col...   \n",
       "\n",
       "                                              genres     id  \\\n",
       "0  [{'id': 16, 'name': 'Animation'}, {'id': 35, '...    862   \n",
       "1  [{'id': 12, 'name': 'Adventure'}, {'id': 14, '...   8844   \n",
       "2  [{'id': 10749, 'name': 'Romance'}, {'id': 35, ...  15602   \n",
       "3  [{'id': 35, 'name': 'Comedy'}, {'id': 18, 'nam...  31357   \n",
       "4                     [{'id': 35, 'name': 'Comedy'}]  11862   \n",
       "\n",
       "                original_title popularity  \\\n",
       "0                    Toy Story  21.946943   \n",
       "1                      Jumanji  17.015539   \n",
       "2             Grumpier Old Men    11.7129   \n",
       "3            Waiting to Exhale   3.859495   \n",
       "4  Father of the Bride Part II   8.387519   \n",
       "\n",
       "                                production_companies  runtime  vote_average  \\\n",
       "0     [{'name': 'Pixar Animation Studios', 'id': 3}]     81.0           7.7   \n",
       "1  [{'name': 'TriStar Pictures', 'id': 559}, {'na...    104.0           6.9   \n",
       "2  [{'name': 'Warner Bros.', 'id': 6194}, {'name'...    101.0           6.5   \n",
       "3  [{'name': 'Twentieth Century Fox Film Corporat...    127.0           6.1   \n",
       "4  [{'name': 'Sandollar Productions', 'id': 5842}...    106.0           5.7   \n",
       "\n",
       "   vote_count  \n",
       "0      5415.0  \n",
       "1      2413.0  \n",
       "2        92.0  \n",
       "3        34.0  \n",
       "4       173.0  "
      ]
     },
     "execution_count": 3,
     "metadata": {},
     "output_type": "execute_result"
    }
   ],
   "source": [
    "movie_df.head()"
   ]
  },
  {
   "cell_type": "code",
   "execution_count": 4,
   "metadata": {},
   "outputs": [
    {
     "name": "stdout",
     "output_type": "stream",
     "text": [
      "<class 'pandas.core.frame.DataFrame'>\n",
      "RangeIndex: 45466 entries, 0 to 45465\n",
      "Data columns (total 9 columns):\n",
      " #   Column                 Non-Null Count  Dtype  \n",
      "---  ------                 --------------  -----  \n",
      " 0   belongs_to_collection  4494 non-null   object \n",
      " 1   genres                 45466 non-null  object \n",
      " 2   id                     45466 non-null  object \n",
      " 3   original_title         45466 non-null  object \n",
      " 4   popularity             45461 non-null  object \n",
      " 5   production_companies   45463 non-null  object \n",
      " 6   runtime                45203 non-null  float64\n",
      " 7   vote_average           45460 non-null  float64\n",
      " 8   vote_count             45460 non-null  float64\n",
      "dtypes: float64(3), object(6)\n",
      "memory usage: 3.1+ MB\n"
     ]
    }
   ],
   "source": [
    "movie_df.info()"
   ]
  },
  {
   "cell_type": "code",
   "execution_count": 5,
   "metadata": {},
   "outputs": [],
   "source": [
    "# movie_df = movie_df.sample(n=1000)\n",
    "# movie_df.info()"
   ]
  },
  {
   "cell_type": "code",
   "execution_count": 6,
   "metadata": {},
   "outputs": [],
   "source": [
    "movie_df.dtypes\n",
    "# movie_df['id'] = movie_df['id'].astype('string').astype('int64')\n",
    "movie_df['title'] = movie_df.original_title.astype('string')\n",
    "movie_df['runtime'] = movie_df.runtime.astype('float')\n",
    "movie_df.drop(columns='original_title',inplace=True)\n",
    "# movie_df.info()"
   ]
  },
  {
   "cell_type": "code",
   "execution_count": 7,
   "metadata": {},
   "outputs": [],
   "source": [
    "# popularity\n",
    "def map_popularity(item):\n",
    "    if str(item).replace('.', '', 1).isdigit():\n",
    "        return float(item)\n",
    "    else:\n",
    "        return np.nan\n",
    "movie_df['popularity'] = movie_df.popularity.astype('string').apply(map_popularity).astype('float')"
   ]
  },
  {
   "cell_type": "code",
   "execution_count": 8,
   "metadata": {},
   "outputs": [],
   "source": [
    "# import literal eval\n",
    "from ast import literal_eval"
   ]
  },
  {
   "cell_type": "code",
   "execution_count": 9,
   "metadata": {},
   "outputs": [
    {
     "name": "stdout",
     "output_type": "stream",
     "text": [
      "<class 'pandas.core.frame.DataFrame'>\n",
      "Int64Index: 1695 entries, 0 to 4490\n",
      "Data columns (total 2 columns):\n",
      " #   Column     Non-Null Count  Dtype \n",
      "---  ------     --------------  ----- \n",
      " 0   coll_id    1695 non-null   int64 \n",
      " 1   coll_name  1695 non-null   object\n",
      "dtypes: int64(1), object(1)\n",
      "memory usage: 39.7+ KB\n",
      "<class 'pandas.core.frame.DataFrame'>\n",
      "RangeIndex: 45466 entries, 0 to 45465\n",
      "Data columns (total 9 columns):\n",
      " #   Column                Non-Null Count  Dtype  \n",
      "---  ------                --------------  -----  \n",
      " 0   genres                45466 non-null  object \n",
      " 1   id                    45466 non-null  object \n",
      " 2   popularity            45305 non-null  float64\n",
      " 3   production_companies  45463 non-null  object \n",
      " 4   runtime               45203 non-null  float64\n",
      " 5   vote_average          45460 non-null  float64\n",
      " 6   vote_count            45460 non-null  float64\n",
      " 7   title                 45466 non-null  string \n",
      " 8   collection            4491 non-null   Int64  \n",
      "dtypes: Int64(1), float64(4), object(3), string(1)\n",
      "memory usage: 3.2+ MB\n"
     ]
    }
   ],
   "source": [
    "# collection\n",
    "collections = []\n",
    "# tmp=[]\n",
    "\n",
    "def get_coll(item):\n",
    "    if str(item) == 'nan':\n",
    "        return None\n",
    "    else:\n",
    "        tmp = str(item).split(', ')\n",
    "        if(tmp.__len__()==1):\n",
    "            # print(tmp)\n",
    "            return None\n",
    "        tmp = literal_eval(item)\n",
    "        id = tmp['id']\n",
    "        name = tmp['name']\n",
    "        collections.append({'coll_id':id,'coll_name':name})\n",
    "    return int(id)\n",
    "        \n",
    "movie_df['collection'] = movie_df.belongs_to_collection.apply(get_coll).astype('Int64')\n",
    "movie_df.drop(columns='belongs_to_collection',inplace=True)\n",
    "\n",
    "# collections df\n",
    "collections_df = pd.DataFrame(columns=['coll_id','coll_name'],data=collections)\n",
    "collections_df.drop_duplicates(inplace=True)\n",
    "collections_df.info()\n",
    "collections_df.to_csv('collections.csv', index=False)\n",
    "\n",
    "movie_df.info()"
   ]
  },
  {
   "cell_type": "code",
   "execution_count": 10,
   "metadata": {},
   "outputs": [
    {
     "data": {
      "text/plain": [
       "0           862\n",
       "1          8844\n",
       "2         15602\n",
       "3         31357\n",
       "4         11862\n",
       "          ...  \n",
       "45461    439050\n",
       "45462    111109\n",
       "45463     67758\n",
       "45464    227506\n",
       "45465    461257\n",
       "Name: id, Length: 45463, dtype: Int64"
      ]
     },
     "execution_count": 10,
     "metadata": {},
     "output_type": "execute_result"
    }
   ],
   "source": [
    "def get_id(item):\n",
    "    if str(item).isdigit():\n",
    "        return int(item)\n",
    "    else:\n",
    "        return np.nan\n",
    "\n",
    "movie_df['id'] = movie_df['id'].apply(get_id).astype('Int64')\n",
    "movie_df.id.dropna()"
   ]
  },
  {
   "cell_type": "code",
   "execution_count": 11,
   "metadata": {},
   "outputs": [
    {
     "data": {
      "text/plain": [
       "0        [{'id': 16, 'name': 'Animation'}, {'id': 35, '...\n",
       "1        [{'id': 12, 'name': 'Adventure'}, {'id': 14, '...\n",
       "2        [{'id': 10749, 'name': 'Romance'}, {'id': 35, ...\n",
       "3        [{'id': 35, 'name': 'Comedy'}, {'id': 18, 'nam...\n",
       "4                           [{'id': 35, 'name': 'Comedy'}]\n",
       "                               ...                        \n",
       "45461    [{'id': 18, 'name': 'Drama'}, {'id': 10751, 'n...\n",
       "45462                        [{'id': 18, 'name': 'Drama'}]\n",
       "45463    [{'id': 28, 'name': 'Action'}, {'id': 18, 'nam...\n",
       "45464                                                   []\n",
       "45465                                                   []\n",
       "Name: genres, Length: 45466, dtype: object"
      ]
     },
     "execution_count": 11,
     "metadata": {},
     "output_type": "execute_result"
    }
   ],
   "source": [
    "movie_df['genres']"
   ]
  },
  {
   "cell_type": "code",
   "execution_count": 12,
   "metadata": {},
   "outputs": [],
   "source": [
    "# genres\n",
    "genres = []\n",
    "\n",
    "def get_genre(item):    \n",
    "    tmp = literal_eval(item)\n",
    "    genre_ids = []\n",
    "    for genre in tmp:\n",
    "        id = genre[\"id\"]\n",
    "        name = genre[\"name\"]\n",
    "        # print(id,name)\n",
    "        genre_ids.append(id)\n",
    "        genres.append({'genre_id':id,'genre_name':name})\n",
    "    # print()\n",
    "    return genre_ids\n",
    "\n",
    "# print(genres)\n",
    "movie_df['genres'] = movie_df.genres.apply(get_genre)\n",
    "\n",
    "# genres df\n",
    "genres_df = pd.DataFrame(columns=['genre_id','genre_name'],data=genres)\n",
    "genres_df['genre_id'] = genres_df['genre_id'].astype('string')\n",
    "genres_df['genre_name'] = genres_df['genre_name'].astype('string')\n",
    "genres_df.drop_duplicates(inplace=True)\n",
    "genres_df.to_csv('genres.csv',index=False)"
   ]
  },
  {
   "cell_type": "code",
   "execution_count": 13,
   "metadata": {},
   "outputs": [
    {
     "name": "stdout",
     "output_type": "stream",
     "text": [
      "<class 'pandas.core.frame.DataFrame'>\n",
      "RangeIndex: 45466 entries, 0 to 45465\n",
      "Data columns (total 9 columns):\n",
      " #   Column                Non-Null Count  Dtype  \n",
      "---  ------                --------------  -----  \n",
      " 0   genres                45466 non-null  object \n",
      " 1   id                    45463 non-null  Int64  \n",
      " 2   popularity            45305 non-null  float64\n",
      " 3   production_companies  45463 non-null  object \n",
      " 4   runtime               45203 non-null  float64\n",
      " 5   vote_average          45460 non-null  float64\n",
      " 6   vote_count            45460 non-null  float64\n",
      " 7   title                 45466 non-null  string \n",
      " 8   collection            4491 non-null   Int64  \n",
      "dtypes: Int64(2), float64(4), object(2), string(1)\n",
      "memory usage: 3.2+ MB\n"
     ]
    }
   ],
   "source": [
    "# movie_df['production_companies'].\n",
    "movie_df.info()"
   ]
  },
  {
   "cell_type": "code",
   "execution_count": 14,
   "metadata": {},
   "outputs": [],
   "source": [
    "# productions\n",
    "productions = []\n",
    "\n",
    "def get_production(item):\n",
    "    if str(item)=='nan':\n",
    "        # print(item)\n",
    "        return []\n",
    "\n",
    "    tmp = literal_eval(item)\n",
    "    if type(tmp)==type(True):\n",
    "        # print(item)\n",
    "        return []\n",
    "\n",
    "    production_ids = []\n",
    "    for production in tmp:\n",
    "        id = production[\"id\"]\n",
    "        name = production[\"name\"]\n",
    "        # print(id,name)\n",
    "        production_ids.append(id)\n",
    "        productions.append({'production_id':id,'production_name':name})\n",
    "    # print()\n",
    "    return production_ids\n",
    "\n",
    "# print(productions)\n",
    "movie_df['production_companies'] = movie_df.production_companies.apply(get_production)\n",
    "\n",
    "# productions df\n",
    "productions_df = pd.DataFrame(columns=['production_id','production_name'],data=productions)\n",
    "productions_df['production_id'] = productions_df['production_id'].astype('string')\n",
    "productions_df['production_name'] = productions_df['production_name'].astype('string')\n",
    "productions_df.drop_duplicates(inplace=True)\n",
    "productions_df.to_csv('productions.csv',index=False)"
   ]
  },
  {
   "cell_type": "code",
   "execution_count": 15,
   "metadata": {},
   "outputs": [
    {
     "ename": "AttributeError",
     "evalue": "'DataFrame' object has no attribute 'new_production_companies'",
     "output_type": "error",
     "traceback": [
      "\u001b[0;31m---------------------------------------------------------------------------\u001b[0m",
      "\u001b[0;31mAttributeError\u001b[0m                            Traceback (most recent call last)",
      "\u001b[0;32m/tmp/ipykernel_24326/39174380.py\u001b[0m in \u001b[0;36m<module>\u001b[0;34m\u001b[0m\n\u001b[0;32m----> 1\u001b[0;31m \u001b[0mmovie_df\u001b[0m\u001b[0;34m[\u001b[0m\u001b[0;34m'production_companies'\u001b[0m\u001b[0;34m]\u001b[0m \u001b[0;34m=\u001b[0m \u001b[0mmovie_df\u001b[0m\u001b[0;34m.\u001b[0m\u001b[0mnew_production_companies\u001b[0m\u001b[0;34m\u001b[0m\u001b[0;34m\u001b[0m\u001b[0m\n\u001b[0m\u001b[1;32m      2\u001b[0m \u001b[0mmovie_df\u001b[0m\u001b[0;34m.\u001b[0m\u001b[0mdrop\u001b[0m\u001b[0;34m(\u001b[0m\u001b[0mcolumns\u001b[0m\u001b[0;34m=\u001b[0m\u001b[0;34m'new_production_companies'\u001b[0m\u001b[0;34m,\u001b[0m\u001b[0minplace\u001b[0m\u001b[0;34m=\u001b[0m\u001b[0;32mTrue\u001b[0m\u001b[0;34m)\u001b[0m\u001b[0;34m\u001b[0m\u001b[0;34m\u001b[0m\u001b[0m\n",
      "\u001b[0;32m~/projects/mlai-projects/movie-recommendation/venv/lib/python3.9/site-packages/pandas/core/generic.py\u001b[0m in \u001b[0;36m__getattr__\u001b[0;34m(self, name)\u001b[0m\n\u001b[1;32m   5485\u001b[0m         ):\n\u001b[1;32m   5486\u001b[0m             \u001b[0;32mreturn\u001b[0m \u001b[0mself\u001b[0m\u001b[0;34m[\u001b[0m\u001b[0mname\u001b[0m\u001b[0;34m]\u001b[0m\u001b[0;34m\u001b[0m\u001b[0;34m\u001b[0m\u001b[0m\n\u001b[0;32m-> 5487\u001b[0;31m         \u001b[0;32mreturn\u001b[0m \u001b[0mobject\u001b[0m\u001b[0;34m.\u001b[0m\u001b[0m__getattribute__\u001b[0m\u001b[0;34m(\u001b[0m\u001b[0mself\u001b[0m\u001b[0;34m,\u001b[0m \u001b[0mname\u001b[0m\u001b[0;34m)\u001b[0m\u001b[0;34m\u001b[0m\u001b[0;34m\u001b[0m\u001b[0m\n\u001b[0m\u001b[1;32m   5488\u001b[0m \u001b[0;34m\u001b[0m\u001b[0m\n\u001b[1;32m   5489\u001b[0m     \u001b[0;32mdef\u001b[0m \u001b[0m__setattr__\u001b[0m\u001b[0;34m(\u001b[0m\u001b[0mself\u001b[0m\u001b[0;34m,\u001b[0m \u001b[0mname\u001b[0m\u001b[0;34m:\u001b[0m \u001b[0mstr\u001b[0m\u001b[0;34m,\u001b[0m \u001b[0mvalue\u001b[0m\u001b[0;34m)\u001b[0m \u001b[0;34m->\u001b[0m \u001b[0;32mNone\u001b[0m\u001b[0;34m:\u001b[0m\u001b[0;34m\u001b[0m\u001b[0;34m\u001b[0m\u001b[0m\n",
      "\u001b[0;31mAttributeError\u001b[0m: 'DataFrame' object has no attribute 'new_production_companies'"
     ]
    }
   ],
   "source": [
    "movie_df['production_companies'] = movie_df.new_production_companies\n",
    "movie_df.drop(columns='new_production_companies',inplace=True)"
   ]
  },
  {
   "cell_type": "code",
   "execution_count": null,
   "metadata": {},
   "outputs": [],
   "source": [
    "movie_df.to_csv('movies_processed.csv', index=False)"
   ]
  },
  {
   "cell_type": "code",
   "execution_count": null,
   "metadata": {},
   "outputs": [],
   "source": [
    "movie_df.to_pickle('movies_processed.pk')"
   ]
  },
  {
   "cell_type": "code",
   "execution_count": 25,
   "metadata": {},
   "outputs": [
    {
     "data": {
      "text/html": [
       "<div>\n",
       "<style scoped>\n",
       "    .dataframe tbody tr th:only-of-type {\n",
       "        vertical-align: middle;\n",
       "    }\n",
       "\n",
       "    .dataframe tbody tr th {\n",
       "        vertical-align: top;\n",
       "    }\n",
       "\n",
       "    .dataframe thead th {\n",
       "        text-align: right;\n",
       "    }\n",
       "</style>\n",
       "<table border=\"1\" class=\"dataframe\">\n",
       "  <thead>\n",
       "    <tr style=\"text-align: right;\">\n",
       "      <th></th>\n",
       "      <th>production_id</th>\n",
       "      <th>production_name</th>\n",
       "    </tr>\n",
       "  </thead>\n",
       "  <tbody>\n",
       "    <tr>\n",
       "      <th>3022</th>\n",
       "      <td>9993</td>\n",
       "      <td>DC Entertainment</td>\n",
       "    </tr>\n",
       "  </tbody>\n",
       "</table>\n",
       "</div>"
      ],
      "text/plain": [
       "     production_id   production_name\n",
       "3022          9993  DC Entertainment"
      ]
     },
     "execution_count": 25,
     "metadata": {},
     "output_type": "execute_result"
    }
   ],
   "source": [
    "productions_df[(productions_df['production_name']=='DC Entertainment')]"
   ]
  }
 ],
 "metadata": {
  "interpreter": {
   "hash": "22193a32a2d7d0c48bc7989777eacee82b7a65cb795c87c6c6a7fb6ea05238c9"
  },
  "kernelspec": {
   "display_name": "Python 3.9.7 64-bit ('venv': venv)",
   "name": "python3"
  },
  "language_info": {
   "codemirror_mode": {
    "name": "ipython",
    "version": 3
   },
   "file_extension": ".py",
   "mimetype": "text/x-python",
   "name": "python",
   "nbconvert_exporter": "python",
   "pygments_lexer": "ipython3",
   "version": "3.9.7"
  },
  "orig_nbformat": 4
 },
 "nbformat": 4,
 "nbformat_minor": 2
}
