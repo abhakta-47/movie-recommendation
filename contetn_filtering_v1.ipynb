{
 "cells": [
  {
   "cell_type": "code",
   "execution_count": 1,
   "metadata": {},
   "outputs": [],
   "source": [
    "import numpy as np\n",
    "import pandas as pd"
   ]
  },
  {
   "cell_type": "code",
   "execution_count": 52,
   "metadata": {},
   "outputs": [
    {
     "name": "stderr",
     "output_type": "stream",
     "text": [
      "/home/abdev/projects/mlai-projects/movie-recommendation/venv/lib/python3.9/site-packages/IPython/core/interactiveshell.py:3457: DtypeWarning: Columns (10) have mixed types.Specify dtype option on import or set low_memory=False.\n",
      "  exec(code_obj, self.user_global_ns, self.user_ns)\n"
     ]
    }
   ],
   "source": [
    "columns_movie = ['genres','belongs_to_collection','id','title','popularity','vote_average','vote_count','tagline','overview']\n",
    "movies_df_ori = pd.read_csv('./data/movies_metadata.csv', usecols=columns_movie)\n",
    "movies_df_ori = movies_df_ori.drop([19730, 29503, 35587])\n",
    "movies_df_ori['popularity'] = movies_df_ori['popularity'].astype('float')"
   ]
  },
  {
   "cell_type": "code",
   "execution_count": 54,
   "metadata": {},
   "outputs": [
    {
     "name": "stdout",
     "output_type": "stream",
     "text": [
      "(9262, 10)\n"
     ]
    }
   ],
   "source": [
    "movies_df = movies_df_ori.loc[ (movies_df_ori['vote_count']>30) & (movies_df_ori['popularity']>4) ].reset_index()\n",
    "print(movies_df.shape)\n",
    "# movies_df.describe()"
   ]
  },
  {
   "cell_type": "markdown",
   "metadata": {},
   "source": [
    "# using tags and overview"
   ]
  },
  {
   "cell_type": "code",
   "execution_count": 60,
   "metadata": {},
   "outputs": [],
   "source": [
    "movies_df['tagline'] = movies_df['tagline'].fillna('')\n",
    "movies_df['overview'] = movies_df['overview'].fillna('')\n",
    "movies_df['description'] = movies_df['tagline'] + movies_df['overview']\n",
    "movies_df['description'] = movies_df['description'].fillna('')"
   ]
  },
  {
   "cell_type": "code",
   "execution_count": 68,
   "metadata": {},
   "outputs": [],
   "source": [
    "from sklearn.feature_extraction.text import TfidfVectorizer, CountVectorizer\n",
    "from sklearn.metrics.pairwise import linear_kernel, cosine_similarity"
   ]
  },
  {
   "cell_type": "code",
   "execution_count": 63,
   "metadata": {},
   "outputs": [],
   "source": [
    "tf = TfidfVectorizer(analyzer='word',ngram_range=(1, 2),min_df=0, stop_words='english')"
   ]
  },
  {
   "cell_type": "code",
   "execution_count": 64,
   "metadata": {},
   "outputs": [],
   "source": [
    "desription_matrix = tf.fit_transform(movies_df['description'])"
   ]
  },
  {
   "cell_type": "code",
   "execution_count": 69,
   "metadata": {},
   "outputs": [],
   "source": [
    "cosine_sim = linear_kernel(desription_matrix, desription_matrix)"
   ]
  },
  {
   "cell_type": "code",
   "execution_count": 70,
   "metadata": {},
   "outputs": [],
   "source": [
    "movies_df.reset_index()\n",
    "indices = pd.Series(movies_df.index, index=movies_df['title'])"
   ]
  },
  {
   "cell_type": "code",
   "execution_count": 83,
   "metadata": {},
   "outputs": [],
   "source": [
    "human_friendly_cols = ['id','title','overview','tagline']"
   ]
  },
  {
   "cell_type": "code",
   "execution_count": 84,
   "metadata": {},
   "outputs": [],
   "source": [
    "def get_recommendations(title):\n",
    "    idx = indices[title]\n",
    "    sim_scores = list(enumerate(cosine_sim[idx]))\n",
    "    sim_scores = sorted(sim_scores, key=lambda x: x[1], reverse=True)\n",
    "    sim_scores = sim_scores[1:31]\n",
    "    movie_indices = [i[0] for i in sim_scores]\n",
    "    return movies_df.iloc[movie_indices][human_friendly_cols]"
   ]
  },
  {
   "cell_type": "code",
   "execution_count": 91,
   "metadata": {},
   "outputs": [
    {
     "data": {
      "text/html": [
       "<div>\n",
       "<style scoped>\n",
       "    .dataframe tbody tr th:only-of-type {\n",
       "        vertical-align: middle;\n",
       "    }\n",
       "\n",
       "    .dataframe tbody tr th {\n",
       "        vertical-align: top;\n",
       "    }\n",
       "\n",
       "    .dataframe thead th {\n",
       "        text-align: right;\n",
       "    }\n",
       "</style>\n",
       "<table border=\"1\" class=\"dataframe\">\n",
       "  <thead>\n",
       "    <tr style=\"text-align: right;\">\n",
       "      <th></th>\n",
       "      <th>id</th>\n",
       "      <th>title</th>\n",
       "      <th>overview</th>\n",
       "      <th>tagline</th>\n",
       "    </tr>\n",
       "  </thead>\n",
       "  <tbody>\n",
       "  </tbody>\n",
       "</table>\n",
       "</div>"
      ],
      "text/plain": [
       "Empty DataFrame\n",
       "Columns: [id, title, overview, tagline]\n",
       "Index: []"
      ]
     },
     "execution_count": 91,
     "metadata": {},
     "output_type": "execute_result"
    }
   ],
   "source": [
    "movies_df[ movies_df['title'].str.contains('Infinity War') ][human_friendly_cols]"
   ]
  },
  {
   "cell_type": "code",
   "execution_count": 121,
   "metadata": {},
   "outputs": [
    {
     "data": {
      "text/html": [
       "<div>\n",
       "<style scoped>\n",
       "    .dataframe tbody tr th:only-of-type {\n",
       "        vertical-align: middle;\n",
       "    }\n",
       "\n",
       "    .dataframe tbody tr th {\n",
       "        vertical-align: top;\n",
       "    }\n",
       "\n",
       "    .dataframe thead th {\n",
       "        text-align: right;\n",
       "    }\n",
       "</style>\n",
       "<table border=\"1\" class=\"dataframe\">\n",
       "  <thead>\n",
       "    <tr style=\"text-align: right;\">\n",
       "      <th></th>\n",
       "      <th>id</th>\n",
       "      <th>title</th>\n",
       "      <th>overview</th>\n",
       "      <th>tagline</th>\n",
       "    </tr>\n",
       "  </thead>\n",
       "  <tbody>\n",
       "    <tr>\n",
       "      <th>6191</th>\n",
       "      <td>49026</td>\n",
       "      <td>The Dark Knight Rises</td>\n",
       "      <td>Following the death of District Attorney Harve...</td>\n",
       "      <td>The Legend Ends</td>\n",
       "    </tr>\n",
       "    <tr>\n",
       "      <th>83</th>\n",
       "      <td>414</td>\n",
       "      <td>Batman Forever</td>\n",
       "      <td>The Dark Knight of Gotham City confronts a das...</td>\n",
       "      <td>Courage now, truth always...</td>\n",
       "    </tr>\n",
       "    <tr>\n",
       "      <th>725</th>\n",
       "      <td>364</td>\n",
       "      <td>Batman Returns</td>\n",
       "      <td>Having defeated the Joker, Batman now faces th...</td>\n",
       "      <td>The Bat, the Cat, the Penguin.</td>\n",
       "    </tr>\n",
       "    <tr>\n",
       "      <th>6141</th>\n",
       "      <td>69735</td>\n",
       "      <td>Batman: Year One</td>\n",
       "      <td>Two men come to Gotham City: Bruce Wayne after...</td>\n",
       "      <td>A merciless crime turns a man into an outlaw.</td>\n",
       "    </tr>\n",
       "    <tr>\n",
       "      <th>329</th>\n",
       "      <td>268</td>\n",
       "      <td>Batman</td>\n",
       "      <td>The Dark Knight of Gotham City begins his war ...</td>\n",
       "      <td>Have you ever danced with the devil in the pal...</td>\n",
       "    </tr>\n",
       "    <tr>\n",
       "      <th>5709</th>\n",
       "      <td>40662</td>\n",
       "      <td>Batman: Under the Red Hood</td>\n",
       "      <td>Batman faces his ultimate challenge as the mys...</td>\n",
       "      <td>Dare to Look Beneath the Hood.</td>\n",
       "    </tr>\n",
       "    <tr>\n",
       "      <th>6639</th>\n",
       "      <td>142061</td>\n",
       "      <td>Batman: The Dark Knight Returns, Part 2</td>\n",
       "      <td>Batman has stopped the reign of terror that Th...</td>\n",
       "      <td>Justice Returns... Vengeance Returns... Redemp...</td>\n",
       "    </tr>\n",
       "    <tr>\n",
       "      <th>8995</th>\n",
       "      <td>324849</td>\n",
       "      <td>The Lego Batman Movie</td>\n",
       "      <td>In the irreverent spirit of fun that made “The...</td>\n",
       "      <td>Always be yourself. Unless you can be Batman.</td>\n",
       "    </tr>\n",
       "    <tr>\n",
       "      <th>7588</th>\n",
       "      <td>20077</td>\n",
       "      <td>Batman vs Dracula</td>\n",
       "      <td>Gotham City is terrorized not only by recent e...</td>\n",
       "      <td>There's another bat in Gotham...</td>\n",
       "    </tr>\n",
       "    <tr>\n",
       "      <th>3842</th>\n",
       "      <td>16234</td>\n",
       "      <td>Batman Beyond: Return of the Joker</td>\n",
       "      <td>The Joker is back with a vengeance, and Gotham...</td>\n",
       "      <td>This Time, The Joker Is Wild</td>\n",
       "    </tr>\n",
       "  </tbody>\n",
       "</table>\n",
       "</div>"
      ],
      "text/plain": [
       "          id                                    title  \\\n",
       "6191   49026                    The Dark Knight Rises   \n",
       "83       414                           Batman Forever   \n",
       "725      364                           Batman Returns   \n",
       "6141   69735                         Batman: Year One   \n",
       "329      268                                   Batman   \n",
       "5709   40662               Batman: Under the Red Hood   \n",
       "6639  142061  Batman: The Dark Knight Returns, Part 2   \n",
       "8995  324849                    The Lego Batman Movie   \n",
       "7588   20077                        Batman vs Dracula   \n",
       "3842   16234       Batman Beyond: Return of the Joker   \n",
       "\n",
       "                                               overview  \\\n",
       "6191  Following the death of District Attorney Harve...   \n",
       "83    The Dark Knight of Gotham City confronts a das...   \n",
       "725   Having defeated the Joker, Batman now faces th...   \n",
       "6141  Two men come to Gotham City: Bruce Wayne after...   \n",
       "329   The Dark Knight of Gotham City begins his war ...   \n",
       "5709  Batman faces his ultimate challenge as the mys...   \n",
       "6639  Batman has stopped the reign of terror that Th...   \n",
       "8995  In the irreverent spirit of fun that made “The...   \n",
       "7588  Gotham City is terrorized not only by recent e...   \n",
       "3842  The Joker is back with a vengeance, and Gotham...   \n",
       "\n",
       "                                                tagline  \n",
       "6191                                    The Legend Ends  \n",
       "83                         Courage now, truth always...  \n",
       "725                      The Bat, the Cat, the Penguin.  \n",
       "6141      A merciless crime turns a man into an outlaw.  \n",
       "329   Have you ever danced with the devil in the pal...  \n",
       "5709                     Dare to Look Beneath the Hood.  \n",
       "6639  Justice Returns... Vengeance Returns... Redemp...  \n",
       "8995      Always be yourself. Unless you can be Batman.  \n",
       "7588                   There's another bat in Gotham...  \n",
       "3842                       This Time, The Joker Is Wild  "
      ]
     },
     "execution_count": 121,
     "metadata": {},
     "output_type": "execute_result"
    }
   ],
   "source": [
    "get_recommendations('The Dark Knight').head(10)"
   ]
  },
  {
   "cell_type": "code",
   "execution_count": 107,
   "metadata": {},
   "outputs": [],
   "source": [
    "tmp_df = pd.read_csv('./data/movies_metadata.csv', usecols=['id','title','release_date'])"
   ]
  },
  {
   "cell_type": "code",
   "execution_count": 118,
   "metadata": {},
   "outputs": [],
   "source": [
    "tmp_df.release_date.drop_duplicates(inplace=True)\n",
    "tmp_df.dropna(inplace=True)"
   ]
  },
  {
   "cell_type": "code",
   "execution_count": 119,
   "metadata": {},
   "outputs": [
    {
     "data": {
      "text/html": [
       "<div>\n",
       "<style scoped>\n",
       "    .dataframe tbody tr th:only-of-type {\n",
       "        vertical-align: middle;\n",
       "    }\n",
       "\n",
       "    .dataframe tbody tr th {\n",
       "        vertical-align: top;\n",
       "    }\n",
       "\n",
       "    .dataframe thead th {\n",
       "        text-align: right;\n",
       "    }\n",
       "</style>\n",
       "<table border=\"1\" class=\"dataframe\">\n",
       "  <thead>\n",
       "    <tr style=\"text-align: right;\">\n",
       "      <th></th>\n",
       "      <th>id</th>\n",
       "      <th>release_date</th>\n",
       "      <th>title</th>\n",
       "    </tr>\n",
       "  </thead>\n",
       "  <tbody>\n",
       "    <tr>\n",
       "      <th>34940</th>\n",
       "      <td>315946</td>\n",
       "      <td>1874-12-09</td>\n",
       "      <td>Passage of Venus</td>\n",
       "    </tr>\n",
       "    <tr>\n",
       "      <th>34937</th>\n",
       "      <td>194079</td>\n",
       "      <td>1878-06-14</td>\n",
       "      <td>Sallie Gardner at a Gallop</td>\n",
       "    </tr>\n",
       "    <tr>\n",
       "      <th>41602</th>\n",
       "      <td>426903</td>\n",
       "      <td>1883-11-19</td>\n",
       "      <td>Buffalo Running</td>\n",
       "    </tr>\n",
       "    <tr>\n",
       "      <th>34933</th>\n",
       "      <td>159897</td>\n",
       "      <td>1887-08-18</td>\n",
       "      <td>Man Walking Around a Corner</td>\n",
       "    </tr>\n",
       "    <tr>\n",
       "      <th>34934</th>\n",
       "      <td>96882</td>\n",
       "      <td>1888-01-01</td>\n",
       "      <td>Accordion Player</td>\n",
       "    </tr>\n",
       "    <tr>\n",
       "      <th>...</th>\n",
       "      <td>...</td>\n",
       "      <td>...</td>\n",
       "      <td>...</td>\n",
       "    </tr>\n",
       "    <tr>\n",
       "      <th>44535</th>\n",
       "      <td>412059</td>\n",
       "      <td>2018-04-04</td>\n",
       "      <td>Mobile Homes</td>\n",
       "    </tr>\n",
       "    <tr>\n",
       "      <th>38130</th>\n",
       "      <td>332283</td>\n",
       "      <td>2018-04-25</td>\n",
       "      <td>Mary Shelley</td>\n",
       "    </tr>\n",
       "    <tr>\n",
       "      <th>30402</th>\n",
       "      <td>38700</td>\n",
       "      <td>2018-11-07</td>\n",
       "      <td>Bad Boys for Life</td>\n",
       "    </tr>\n",
       "    <tr>\n",
       "      <th>38885</th>\n",
       "      <td>299782</td>\n",
       "      <td>2018-12-31</td>\n",
       "      <td>The Other Side of the Wind</td>\n",
       "    </tr>\n",
       "    <tr>\n",
       "      <th>26559</th>\n",
       "      <td>76600</td>\n",
       "      <td>2020-12-16</td>\n",
       "      <td>Avatar 2</td>\n",
       "    </tr>\n",
       "  </tbody>\n",
       "</table>\n",
       "<p>45376 rows × 3 columns</p>\n",
       "</div>"
      ],
      "text/plain": [
       "           id release_date                        title\n",
       "34940  315946   1874-12-09             Passage of Venus\n",
       "34937  194079   1878-06-14   Sallie Gardner at a Gallop\n",
       "41602  426903   1883-11-19              Buffalo Running\n",
       "34933  159897   1887-08-18  Man Walking Around a Corner\n",
       "34934   96882   1888-01-01             Accordion Player\n",
       "...       ...          ...                          ...\n",
       "44535  412059   2018-04-04                 Mobile Homes\n",
       "38130  332283   2018-04-25                 Mary Shelley\n",
       "30402   38700   2018-11-07            Bad Boys for Life\n",
       "38885  299782   2018-12-31   The Other Side of the Wind\n",
       "26559   76600   2020-12-16                     Avatar 2\n",
       "\n",
       "[45376 rows x 3 columns]"
      ]
     },
     "execution_count": 119,
     "metadata": {},
     "output_type": "execute_result"
    }
   ],
   "source": [
    "tmp_df.sort_values(by='release_date')"
   ]
  }
 ],
 "metadata": {
  "interpreter": {
   "hash": "22193a32a2d7d0c48bc7989777eacee82b7a65cb795c87c6c6a7fb6ea05238c9"
  },
  "kernelspec": {
   "display_name": "Python 3.9.7 64-bit ('venv': venv)",
   "name": "python3"
  },
  "language_info": {
   "codemirror_mode": {
    "name": "ipython",
    "version": 3
   },
   "file_extension": ".py",
   "mimetype": "text/x-python",
   "name": "python",
   "nbconvert_exporter": "python",
   "pygments_lexer": "ipython3",
   "version": "3.9.7"
  },
  "orig_nbformat": 4
 },
 "nbformat": 4,
 "nbformat_minor": 2
}
