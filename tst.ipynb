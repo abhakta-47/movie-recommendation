{
 "cells": [
  {
   "cell_type": "code",
   "execution_count": 1,
   "metadata": {},
   "outputs": [],
   "source": [
    "import numpy as np\n",
    "import pandas as pd\n",
    "import pickle"
   ]
  },
  {
   "cell_type": "code",
   "execution_count": 9,
   "metadata": {},
   "outputs": [],
   "source": [
    "# movies_df = pd.read_csv('./data/my data/movies_dataset.csv')\n",
    "movies_df = pd.read_pickle('./data/my data/movies_dataset.pk')\n",
    "crew_df = pd.read_csv('./data/my data/crew_dataset.csv')\n",
    "cast_df = pd.read_csv('./data/my data/cast_dataset.csv')\n",
    "keywords_df = pd.read_csv('./data/my data/keywords_dataframe.csv')"
   ]
  }
 ],
 "metadata": {
  "interpreter": {
   "hash": "22193a32a2d7d0c48bc7989777eacee82b7a65cb795c87c6c6a7fb6ea05238c9"
  },
  "kernelspec": {
   "display_name": "Python 3.9.7 64-bit ('venv': venv)",
   "language": "python",
   "name": "python3"
  },
  "language_info": {
   "codemirror_mode": {
    "name": "ipython",
    "version": 3
   },
   "file_extension": ".py",
   "mimetype": "text/x-python",
   "name": "python",
   "nbconvert_exporter": "python",
   "pygments_lexer": "ipython3",
   "version": "3.9.7"
  },
  "orig_nbformat": 4
 },
 "nbformat": 4,
 "nbformat_minor": 2
}
